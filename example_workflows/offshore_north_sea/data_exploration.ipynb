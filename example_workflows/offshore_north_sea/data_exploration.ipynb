{
 "cells": [
  {
   "cell_type": "code",
   "execution_count": 20,
   "metadata": {},
   "outputs": [],
   "source": [
    "import pandas as pd \n",
    "import os\n",
    "import json"
   ]
  },
  {
   "cell_type": "code",
   "execution_count": 21,
   "metadata": {},
   "outputs": [
    {
     "name": "stdout",
     "output_type": "stream",
     "text": [
      "c:\\Users\\t.pelser\\repos\\ethos.REFLOW\\example_workflows\\offshore_north_sea\n"
     ]
    }
   ],
   "source": [
    "cwd = os.getcwd()\n",
    "print(cwd)"
   ]
  },
  {
   "cell_type": "code",
   "execution_count": 22,
   "metadata": {},
   "outputs": [],
   "source": [
    "# Define the file paths for the two scenarios\n",
    "file_paths = {\n",
    "    '1000m_depth': os.path.join(os.getcwd(), 'output/geodata/turbine_placements_4326_1000m_depth.csv'),\n",
    "    '50m_depth': os.path.join(os.getcwd(), 'output/geodata/turbine_placements_4326_50m_depth.csv')\n",
    "}"
   ]
  },
  {
   "cell_type": "code",
   "execution_count": 23,
   "metadata": {},
   "outputs": [],
   "source": [
    "report_paths = {\n",
    "    '1000m_depth': os.path.join(os.getcwd(), 'output/report_1000m_depth.json'),\n",
    "    '50m_depth': os.path.join(os.getcwd(), 'output/report_50m_depth.json')\n",
    "}"
   ]
  },
  {
   "cell_type": "code",
   "execution_count": 24,
   "metadata": {},
   "outputs": [],
   "source": [
    "# Define the turbine capacity in MW\n",
    "turbine_capacity_mw = 15"
   ]
  },
  {
   "cell_type": "code",
   "execution_count": 25,
   "metadata": {},
   "outputs": [],
   "source": [
    "# Function to calculate the statistics for a given scenario\n",
    "def calculate_statistics(file_path, report_path):\n",
    "    # Read the CSV file\n",
    "    df = pd.read_csv(file_path)\n",
    "    \n",
    "    # Count the number of turbines installed in each country\n",
    "    turbine_counts = df['country'].value_counts()\n",
    "    \n",
    "    # Calculate the total installable capacity for each country in GW\n",
    "    installable_capacity_gw = turbine_counts * turbine_capacity_mw / 1000  # Convert MW to GW\n",
    "    \n",
    "    # Create a DataFrame to display the results\n",
    "    results = pd.DataFrame({\n",
    "        'Number of Turbines': turbine_counts,\n",
    "        'Total Installable Capacity (GW)': installable_capacity_gw\n",
    "    })\n",
    "    \n",
    "    # Calculate the totals for the entire North Sea region\n",
    "    total_turbines_ns = turbine_counts.sum()\n",
    "    total_installable_capacity_ns_gw = installable_capacity_gw.sum()\n",
    "    \n",
    "    # Read the report JSON file\n",
    "    with open(report_path, 'r') as file:\n",
    "        report_data = json.load(file)\n",
    "    \n",
    "    # Extract generation data and capacity factor for each year\n",
    "    generation_twh = []\n",
    "    capacity_factors = []\n",
    "    for year in range(2013, 2024):\n",
    "        generation_key = f\"Total_Generation_{year}_TWh\"\n",
    "        capacity_factor_key = f\"Mean_Capacity_Factor_{year}\"\n",
    "        if generation_key in report_data:\n",
    "            generation_twh.append(report_data[generation_key])\n",
    "        if capacity_factor_key in report_data:\n",
    "            capacity_factors.append(report_data[capacity_factor_key])\n",
    "    \n",
    "    # Calculate min, max, and mean generation\n",
    "    min_generation = min(generation_twh)\n",
    "    max_generation = max(generation_twh)\n",
    "    mean_generation = sum(generation_twh) / len(generation_twh)\n",
    "    \n",
    "    # Calculate overall mean capacity factor\n",
    "    overall_mean_capacity_factor = sum(capacity_factors) / len(capacity_factors)\n",
    "    \n",
    "    return results, total_turbines_ns, total_installable_capacity_ns_gw, min_generation, max_generation, mean_generation, overall_mean_capacity_factor"
   ]
  },
  {
   "cell_type": "code",
   "execution_count": 27,
   "metadata": {},
   "outputs": [
    {
     "name": "stdout",
     "output_type": "stream",
     "text": [
      "\n",
      "Statistics for 1000M Depth Scenario:\n",
      "         Number of Turbines  Total Installable Capacity (GW)\n",
      "country                                                     \n",
      "GBR                   20179                          302.685\n",
      "NOR                   14435                          216.525\n",
      "DNK                    7973                          119.595\n",
      "NLD                    4781                           71.715\n",
      "DEU                    3260                           48.900\n",
      "SWE                     411                            6.165\n",
      "BEL                     129                            1.935\n",
      "FRA                      44                            0.660\n",
      "\n",
      "Total Statistics for the 1000M Depth Scenario:\n",
      "Total Number of Turbines: 51212\n",
      "Total Installable Capacity: 768.18 GW\n",
      "Mean Annual Generation: 3314.30 TWh\n",
      "Max Annual Generation: 3722.24 TWh\n",
      "Min Annual Generation: 2030.05 TWh\n",
      "Overall Mean Capacity Factor: 49.25\n",
      "\n",
      "Statistics for 50M Depth Scenario:\n",
      "         Number of Turbines  Total Installable Capacity (GW)\n",
      "country                                                     \n",
      "DNK                    5630                           84.450\n",
      "NLD                    4745                           71.175\n",
      "DEU                    3221                           48.315\n",
      "GBR                    1395                           20.925\n",
      "NOR                     200                            3.000\n",
      "BEL                     129                            1.935\n",
      "FRA                      44                            0.660\n",
      "SWE                       2                            0.030\n",
      "\n",
      "Total Statistics for the 50M Depth Scenario:\n",
      "Total Number of Turbines: 15366\n",
      "Total Installable Capacity: 230.49 GW\n",
      "Mean Annual Generation: 982.35 TWh\n",
      "Max Annual Generation: 1104.68 TWh\n",
      "Min Annual Generation: 634.93 TWh\n",
      "Overall Mean Capacity Factor: 48.65\n"
     ]
    }
   ],
   "source": [
    "# Process each scenario and display the results\n",
    "for scenario, file_path in file_paths.items():\n",
    "    report_path = report_paths[scenario]\n",
    "    print(f\"\\nStatistics for {scenario.replace('_', ' ').title()} Scenario:\")\n",
    "    \n",
    "    results, total_turbines_ns, total_installable_capacity_ns_gw, min_generation, max_generation, mean_generation, overall_mean_capacity_factor = calculate_statistics(file_path, report_path)\n",
    "    \n",
    "    # Display the results for each country\n",
    "    print(results)\n",
    "    \n",
    "    # Display the totals for the entire North Sea region\n",
    "    print(f\"\\nTotal Statistics for the {scenario.replace('_', ' ').title()} Scenario:\")\n",
    "    print(f\"Total Number of Turbines: {total_turbines_ns}\")\n",
    "    print(f\"Total Installable Capacity: {total_installable_capacity_ns_gw:.2f} GW\")\n",
    "    print(f\"Mean Annual Generation: {mean_generation:.2f} TWh\")\n",
    "    print(f\"Max Annual Generation: {max_generation:.2f} TWh\")\n",
    "    print(f\"Min Annual Generation: {min_generation:.2f} TWh\")\n",
    "    print(f\"Overall Mean Capacity Factor: {overall_mean_capacity_factor:.2f}\")"
   ]
  },
  {
   "cell_type": "code",
   "execution_count": null,
   "metadata": {},
   "outputs": [],
   "source": []
  }
 ],
 "metadata": {
  "kernelspec": {
   "display_name": "Python 3",
   "language": "python",
   "name": "python3"
  },
  "language_info": {
   "codemirror_mode": {
    "name": "ipython",
    "version": 3
   },
   "file_extension": ".py",
   "mimetype": "text/x-python",
   "name": "python",
   "nbconvert_exporter": "python",
   "pygments_lexer": "ipython3",
   "version": "3.12.3"
  }
 },
 "nbformat": 4,
 "nbformat_minor": 2
}
